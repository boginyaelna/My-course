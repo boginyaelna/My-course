{
 "cells": [
  {
   "cell_type": "markdown",
   "id": "e152f6d6",
   "metadata": {
    "ExecuteTime": {
     "end_time": "2022-12-10T14:29:24.703416Z",
     "start_time": "2022-12-10T14:29:24.688485Z"
    },
    "id": "e152f6d6"
   },
   "source": [
    "## Домашнє завдання 6: Статистичні тести"
   ]
  },
  {
   "cell_type": "markdown",
   "id": "cd404683",
   "metadata": {
    "id": "cd404683"
   },
   "source": [
    "0. Зчитайте дані з `data.csv` та запишіть значення колонки data у форматі np.ndarray в змінну data. Ми будемо далі працювати з цією змінною."
   ]
  },
  {
   "cell_type": "code",
   "execution_count": 34,
   "id": "a8M1Xqa3hInl",
   "metadata": {
    "id": "a8M1Xqa3hInl"
   },
   "outputs": [],
   "source": [
    "import numpy as np\n",
    "import pandas as pd\n",
    "data_path = ('data.csv')\n",
    "df = pd.read_csv(data_path)\n",
    "data = np.array(df['data'])"
   ]
  },
  {
   "cell_type": "markdown",
   "id": "3d06cbbf",
   "metadata": {
    "id": "3d06cbbf"
   },
   "source": [
    "Запустіть код нижче. Для коректної робити всіх подальших методів дані мають бути у вигляді одновимірного вектора, тобто мати розмір (100,)."
   ]
  },
  {
   "cell_type": "code",
   "execution_count": 27,
   "id": "Rc_cM9TfhJYI",
   "metadata": {
    "id": "Rc_cM9TfhJYI"
   },
   "outputs": [
    {
     "data": {
      "text/plain": [
       "(100,)"
      ]
     },
     "execution_count": 27,
     "metadata": {},
     "output_type": "execute_result"
    }
   ],
   "source": [
    "data.shape"
   ]
  },
  {
   "cell_type": "markdown",
   "id": "abdcef5d",
   "metadata": {
    "id": "abdcef5d"
   },
   "source": [
    "1. Зчитані дані - це сума покупок в доларах наших покупців на сайті протягом липня 2022 року.\n",
    "\n",
    "До цього місяця, ми мали продажі в середньому на чек $20. Чи вийшло у нас статистично значущо **підвищити** середній чек за останній місяць?\n",
    "\n",
    "Оберіть статистичний тест (z-test чи t-test). Виведіть p-значення статистичного тесту та зробіть висновок, чи ми маємо зараз статистично значущу різницю у розмірі середнього чеку.\n",
    "\n",
    "**Підказка**: тут тест буде одновибірковий."
   ]
  },
  {
   "cell_type": "markdown",
   "id": "12359902-49a5-436e-928c-0ca251e0dc96",
   "metadata": {
    "id": "XhxcSbYqhLz9"
   },
   "source": [
    "Дані про покупки в доларах за весь період існування магазину – це наша генеральна сукупність, а дані про покупки за липень 2022 року – це вибірка з цієї генеральної сукупності. Ми не маємо данних про дисперсію генеральної сукпності. Як сказано в лекції, t-тест вибирається у двох випадках: коли вибірка мала (до 30 елементів) або коли дисперсія генеральної сукупності невідома. У нашому випадку хоч вибірка і складається з більше ніж 100 покупок, але дисперсія генеральної сукупності нам невідома, тому використовуємо одновибірковий t-тест для перевірки статистичної значущості різниці у розмірі середнього чеку."
   ]
  },
  {
   "cell_type": "markdown",
   "id": "b13344e3-89ea-47f3-8a6a-3175b49ca335",
   "metadata": {},
   "source": [
    "Н0: Середній чек у липні 2022 року не змінився і залишається рівним 20$\n",
    "Н1: Середній чек у липні 2022 року значно більший, ніж 20$"
   ]
  },
  {
   "cell_type": "code",
   "execution_count": 28,
   "id": "5d6cd9f0-1285-4ae0-b40b-e768d012e08e",
   "metadata": {},
   "outputs": [
    {
     "name": "stdout",
     "output_type": "stream",
     "text": [
      "t_stat: -0.9953477389335053\n",
      "p-value: 0.3219937839011988\n"
     ]
    }
   ],
   "source": [
    "# ми на лекції не розглядали бібліотекі і модулі для t-тесту тому прійшлося погугліті як це робити\n",
    "from scipy import stats\n",
    "null_mean = 20\n",
    "t_stat, p_value = stats.ttest_1samp(data, null_mean)\n",
    "print(f't_stat: {t_stat}')\n",
    "print(f'p-value: {p_value}')"
   ]
  },
  {
   "cell_type": "code",
   "execution_count": 29,
   "id": "4258ef2d-b970-4564-ad58-b193ab3d45c8",
   "metadata": {},
   "outputs": [
    {
     "name": "stdout",
     "output_type": "stream",
     "text": [
      "Ми не маємо статистично значущої різниці в середньому чеку.\n"
     ]
    }
   ],
   "source": [
    "# Рівень значущості 5%\n",
    "alpha = 0.05\n",
    "if p_value < alpha:\n",
    "    print('Ми маємо статистично значущу різницю в середньому чеку.')\n",
    "else:\n",
    "    print('Ми не маємо статистично значущої різниці в середньому чеку.')"
   ]
  },
  {
   "cell_type": "markdown",
   "id": "05219e41",
   "metadata": {
    "ExecuteTime": {
     "end_time": "2022-12-10T14:52:46.140204Z",
     "start_time": "2022-12-10T14:52:46.112068Z"
    },
    "id": "05219e41"
   },
   "source": [
    "2. Пройшов час, і ми зібрали дані про продажі за серпень 2022 року, які зберігли у файл `data_2.csv`. Продажів було дещо більше, але чи змінився стат. значущо середній чек порівняно з липнем 2022? Перевірте це використовуючи ztest.\n",
    "\n",
    "  Виведіть p-значення статистичного тесту та зробіть висновок, чи ми маємо зараз статистично значущу різницю у розмірі середнього чека між двома місяцями.\n",
    "\n",
    "  **Підказка**: треба провести двовибірковий ztest з Н0 - що середні значення в липні та серпні 2022 року - однакові. Для кращого розуміння ситуації, можливо вам буде цікаво переглянути, які середні показники чеку були в кожен з місяців. Порівняйте свій висновок з простого спостереження середніх значень і висновок статистичного тесту. Чи вони збігаються?"
   ]
  },
  {
   "cell_type": "code",
   "execution_count": 32,
   "id": "hbs7LPI4hP-6",
   "metadata": {
    "id": "hbs7LPI4hP-6"
   },
   "outputs": [],
   "source": [
    "# зчитаємо данні за серпень\n",
    "data_path_2 = ('data_2.csv')\n",
    "df_2 = pd.read_csv(data_path_2)\n",
    "data_2 = np.array(df_2['data'])"
   ]
  },
  {
   "cell_type": "code",
   "execution_count": 33,
   "id": "1038af83-12f9-4bdf-af58-9169097af2d0",
   "metadata": {},
   "outputs": [
    {
     "data": {
      "text/plain": [
       "(120,)"
      ]
     },
     "execution_count": 33,
     "metadata": {},
     "output_type": "execute_result"
    }
   ],
   "source": [
    "# приводим у вигляд одномірного вектора\n",
    "data_2.shape"
   ]
  },
  {
   "cell_type": "markdown",
   "id": "147298b5-7f55-449b-b278-040b8f59ce23",
   "metadata": {},
   "source": [
    "Визначимо нульову та альтернатівну гіпотези:\n",
    "Н0: Середній чек у липні та серпні 2022 року однакові\n",
    "Н1: Середній чек у серпні 2022 року значно більший, ніж у липні 2022 року"
   ]
  },
  {
   "cell_type": "code",
   "execution_count": 35,
   "id": "46374389-242e-495c-9de9-7c6a2e1ac6b7",
   "metadata": {
    "scrolled": true
   },
   "outputs": [
    {
     "data": {
      "text/plain": [
       "(19.37755319670441, 19.37322276512519)"
      ]
     },
     "execution_count": 35,
     "metadata": {},
     "output_type": "execute_result"
    }
   ],
   "source": [
    "# розрахуємо середні значення за липень і серпень 2022 року\n",
    "np.mean(data), np.mean(data_2)"
   ]
  },
  {
   "cell_type": "code",
   "execution_count": 38,
   "id": "089120b9-80a5-431e-b042-0640886e5472",
   "metadata": {},
   "outputs": [
    {
     "name": "stdout",
     "output_type": "stream",
     "text": [
      "ztest_Score : 0.005246673456808504, p_value: 0.9958137794593356\n"
     ]
    }
   ],
   "source": [
    "from statsmodels.stats.weightstats import ztest\n",
    "\n",
    "ztest_Score, p_value = ztest(data, data_2, value = 0)\n",
    "print(f'ztest_Score : {ztest_Score}, p_value: {p_value}')"
   ]
  },
  {
   "cell_type": "code",
   "execution_count": 41,
   "id": "caccb28a-9ed2-4c4f-b1e1-6b7384e4e025",
   "metadata": {},
   "outputs": [
    {
     "name": "stdout",
     "output_type": "stream",
     "text": [
      "Гіпотеза Н0 не може бути відхилена\n"
     ]
    }
   ],
   "source": [
    "# Рівень значущості 5%\n",
    "alpha = 0.05\n",
    "if p_value < alpha:\n",
    "    print('Ми відхиляємо гіпотезу Н0')\n",
    "else:\n",
    "    print('Гіпотеза Н0 не може бути відхилена')"
   ]
  },
  {
   "cell_type": "markdown",
   "id": "571fc5f4-837b-4e72-acdf-27ff19113c2a",
   "metadata": {},
   "source": [
    "І дійсно порівнявши наше середнє по обох вибірках ми бачімо що воно майже однакове. Тому робімо вивід, що ми не маємо підстав стверджувати, що середній чек за два місяці змінився статистично значущо."
   ]
  }
 ],
 "metadata": {
  "colab": {
   "provenance": []
  },
  "hide_input": false,
  "kernelspec": {
   "display_name": "Python 3 (ipykernel)",
   "language": "python",
   "name": "python3"
  },
  "language_info": {
   "codemirror_mode": {
    "name": "ipython",
    "version": 3
   },
   "file_extension": ".py",
   "mimetype": "text/x-python",
   "name": "python",
   "nbconvert_exporter": "python",
   "pygments_lexer": "ipython3",
   "version": "3.12.3"
  },
  "toc": {
   "base_numbering": 1,
   "nav_menu": {},
   "number_sections": true,
   "sideBar": true,
   "skip_h1_title": false,
   "title_cell": "Table of Contents",
   "title_sidebar": "Contents",
   "toc_cell": false,
   "toc_position": {},
   "toc_section_display": true,
   "toc_window_display": false
  },
  "varInspector": {
   "cols": {
    "lenName": 16,
    "lenType": 16,
    "lenVar": 40
   },
   "kernels_config": {
    "python": {
     "delete_cmd_postfix": "",
     "delete_cmd_prefix": "del ",
     "library": "var_list.py",
     "varRefreshCmd": "print(var_dic_list())"
    },
    "r": {
     "delete_cmd_postfix": ") ",
     "delete_cmd_prefix": "rm(",
     "library": "var_list.r",
     "varRefreshCmd": "cat(var_dic_list()) "
    }
   },
   "types_to_exclude": [
    "module",
    "function",
    "builtin_function_or_method",
    "instance",
    "_Feature"
   ],
   "window_display": false
  }
 },
 "nbformat": 4,
 "nbformat_minor": 5
}
