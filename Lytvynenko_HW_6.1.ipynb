{
 "cells": [
  {
   "cell_type": "markdown",
   "id": "cd01a777",
   "metadata": {},
   "source": [
    "1.Ви —  продакт менеджер в компанії, яка займається мобільними додатками. Ваша модель монетизації — підписка. У травні 2019 року до вас приєдналося 100 підписників, у червні — 150, у липні — 170. Скільки ці користувачі принесли вам до початку травня 2021 року (за два роки), якщо щомісячний рівень відтоку становить 5%, а підписка коштує $10?"
   ]
  },
  {
   "cell_type": "markdown",
   "id": "3efddc5a",
   "metadata": {},
   "source": [
    "У нас є три групи підписників:\n",
    "\t1.\tgroup1: 100 підписників із тривалістю time1 = 24 (2 роки).\n",
    "\t2.\tgroup2: 150 підписників із тривалістю time2 = 23.\n",
    "\t3.\tgroup3: 170 підписників із тривалістю time3 = 22.\n",
    "\n",
    "Окрім цього:\n",
    "\t•\tpersent = 0.95\n",
    "\t•\tprice = 10$\n",
    "    \n",
    "Для вирішення задачі ми здійснимо наступні кроки:\n",
    "\n",
    "\t1.\tДля кожної групи підписників (Group 1, Group 2, Group 3) окремо розрахуємо:\n",
    "\t•\tВідток: 5% за кожен період.\n",
    "\t•\tДоходи: враховуючи вартість підписки 10 доларів.\n",
    "    \n",
    "\t2.\tДля кожної групи визначимо загальну суму доходів за відповідний період (Time 1, Time 2, Time 3).\n",
    "    \n",
    "\t3.\tОбчислимо загальну суму, склавши доходи від усіх груп.\n",
    "    \n",
    "Дохід обчислюється за формулою:\n",
    "Дохід = Вартість × Кількість підписників.\n"
   ]
  },
  {
   "cell_type": "code",
   "execution_count": 15,
   "id": "a615c7e8",
   "metadata": {},
   "outputs": [
    {
     "data": {
      "text/plain": [
       "57939.0"
      ]
     },
     "execution_count": 15,
     "metadata": {},
     "output_type": "execute_result"
    }
   ],
   "source": [
    "# Використовуючи формулу з лекції порахуємо прибуток за кожний період \n",
    "group1 = 100\n",
    "group2 = 150\n",
    "group3 = 170\n",
    "time1 = 24\n",
    "time2 = 23\n",
    "time3 = 22\n",
    "persent = 0.95\n",
    "price = 10\n",
    "income1 = price * group1 * ((1 - persent ** time1)/(1 - persent))\n",
    "income2 = price * group2 * ((1 - persent ** time2)/(1 - persent))\n",
    "income3 = price * group3 * ((1 - persent ** time3)/(1 - persent))\n",
    "total_income = round(income1 + income2 + income3, 0)\n",
    "total_income"
   ]
  },
  {
   "cell_type": "markdown",
   "id": "3234dd61",
   "metadata": {},
   "source": [
    "2.Ви — менеджер по роботі з продуктом в компанії, яка розробляє мобільні ігри. У січні 2020 року у вас було 2000 активних користувачів. Щомісяця кількість нових користувачів зростає на 3%, але водночас 2% існуючих користувачів перестають користуватися додатком. У результаті, ефективне зростання активних користувачів складає 1% щомісяця.\n",
    "    \n",
    "Ваша мета — визначити кумулятивну кількість активних користувачів за весь період від січня 2020 року до кінця грудня 2021 року (тобто за 24 місяці), враховуючи щомісячний приріст 1%.\n",
    "    \n",
    "**Питання**: Якою буде загальна кількість активних користувачів, накопичена за 24 місяці?"
   ]
  },
  {
   "cell_type": "markdown",
   "id": "825e0d77",
   "metadata": {},
   "source": [
    "Підемо по логіці попередньої задачі і розрахуємо кумулятивну кількість корістувачів за формулою:"
   ]
  },
  {
   "cell_type": "code",
   "execution_count": 1,
   "id": "6e48ac2b",
   "metadata": {},
   "outputs": [],
   "source": [
    "start_amount = 2000\n",
    "persent = 0.01\n",
    "time = 24"
   ]
  },
  {
   "cell_type": "code",
   "execution_count": 10,
   "id": "a3e09562",
   "metadata": {},
   "outputs": [
    {
     "data": {
      "text/plain": [
       "53947.0"
      ]
     },
     "execution_count": 10,
     "metadata": {},
     "output_type": "execute_result"
    }
   ],
   "source": [
    "kum_amoun = round(start_amount * (((1 + persent) ** time) - 1) / persent, 0)\n",
    "kum_amoun"
   ]
  },
  {
   "cell_type": "markdown",
   "id": "41561aa2",
   "metadata": {},
   "source": [
    "А от загальна кількість накопиченних корістувачів буде:"
   ]
  },
  {
   "cell_type": "code",
   "execution_count": 4,
   "id": "8e9d8eb8",
   "metadata": {},
   "outputs": [
    {
     "data": {
      "text/plain": [
       "2539.0"
      ]
     },
     "execution_count": 4,
     "metadata": {},
     "output_type": "execute_result"
    }
   ],
   "source": [
    "tot_user =  round(start_amount * (1 + persent) ** time,0) \n",
    "tot_user"
   ]
  },
  {
   "cell_type": "markdown",
   "id": "057e0e8b",
   "metadata": {},
   "source": [
    "3.Ви — менеджер з розвитку бізнесу в компанії, що займається створенням платформи для онлайн-курсів. У січні 2021 року ви залучили 500 нових користувачів. У лютому кількість нових користувачів зросла на 50%, у березні — ще на 20%. З квітня приріст нових користувачів стабілізувався на рівні 10% щомісяця. Скільки активних користувачів ви мали загалом за перше півріччя 2021 року?"
   ]
  },
  {
   "cell_type": "markdown",
   "id": "7d477734",
   "metadata": {},
   "source": [
    "Подумаємо логічно - перше півріччя це січень, лютий, березень, квітень, травень, червень"
   ]
  },
  {
   "cell_type": "code",
   "execution_count": 16,
   "id": "3b99ac4f",
   "metadata": {},
   "outputs": [
    {
     "data": {
      "text/plain": [
       "5427.0"
      ]
     },
     "execution_count": 16,
     "metadata": {},
     "output_type": "execute_result"
    }
   ],
   "source": [
    "sichen = 500\n",
    "lutii = sichen * 1.5\n",
    "berezen = lutii * 1.2\n",
    "kviten = berezen * 1.1\n",
    "traven = kviten * 1.1\n",
    "cherven = traven * 1.1\n",
    "total_customers = round(sichen + lutii + berezen + kviten + traven + cherven , 0)\n",
    "total_customers"
   ]
  },
  {
   "cell_type": "markdown",
   "id": "f11a5913",
   "metadata": {},
   "source": [
    "Логіка наступна - в лютому прійшло ще 50% від січня, а ось в березни вже 20 відсотків від лютого і так далі. Порахуємо за кожен місяць і просумуємо."
   ]
  }
 ],
 "metadata": {
  "kernelspec": {
   "display_name": "Python 3 (ipykernel)",
   "language": "python",
   "name": "python3"
  },
  "language_info": {
   "codemirror_mode": {
    "name": "ipython",
    "version": 3
   },
   "file_extension": ".py",
   "mimetype": "text/x-python",
   "name": "python",
   "nbconvert_exporter": "python",
   "pygments_lexer": "ipython3",
   "version": "3.12.4"
  }
 },
 "nbformat": 4,
 "nbformat_minor": 5
}
