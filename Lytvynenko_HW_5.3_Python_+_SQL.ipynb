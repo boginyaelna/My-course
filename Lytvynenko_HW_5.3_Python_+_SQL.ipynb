{
 "cells": [
  {
   "cell_type": "markdown",
   "id": "2153041f",
   "metadata": {
    "id": "2153041f"
   },
   "source": [
    "# Завдання на використання SQL в Python"
   ]
  },
  {
   "cell_type": "markdown",
   "id": "2c1af6e1",
   "metadata": {
    "ExecuteTime": {
     "end_time": "2022-11-27T18:04:46.316592Z",
     "start_time": "2022-11-27T18:04:46.302021Z"
    },
    "id": "2c1af6e1"
   },
   "source": [
    "1.Встановіть бібліотеку `mysql-connector-python` через pip aбо через conda."
   ]
  },
  {
   "cell_type": "code",
   "execution_count": 1,
   "id": "a8fcd64e",
   "metadata": {
    "id": "a8fcd64e"
   },
   "outputs": [
    {
     "name": "stdout",
     "output_type": "stream",
     "text": [
      "mysql-connector-python    8.4.0           py312h86e49da_1    anaconda\n"
     ]
    }
   ],
   "source": [
    "! conda list | grep mysql-connector-python"
   ]
  },
  {
   "cell_type": "code",
   "execution_count": 2,
   "id": "c42044cc-e45c-4716-86b7-e11effd1d977",
   "metadata": {},
   "outputs": [],
   "source": [
    "import mysql.connector\n",
    "from mysql.connector.connection import MySQLConnection\n",
    "import datetime"
   ]
  },
  {
   "cell_type": "markdown",
   "id": "eec5551e",
   "metadata": {
    "id": "eec5551e",
    "pycharm": {
     "name": "#%% md\n"
    }
   },
   "source": [
    "2.В змінній `con` створіть підключення до бази даних employees за аналогією того, як це робилось в лекції:"
   ]
  },
  {
   "cell_type": "code",
   "execution_count": 23,
   "id": "e3fff0d8",
   "metadata": {
    "id": "e3fff0d8"
   },
   "outputs": [],
   "source": [
    "con = mysql.connector.connect(user='user1', password='7oygWy6P',\n",
    "                              host='3.68.62.36',\n",
    "                              database='employees')"
   ]
  },
  {
   "cell_type": "markdown",
   "id": "8b17a588",
   "metadata": {
    "ExecuteTime": {
     "end_time": "2022-01-26T22:23:01.406330Z",
     "start_time": "2022-01-26T22:23:01.403942Z"
    },
    "id": "8b17a588",
    "pycharm": {
     "name": "#%% md\n"
    }
   },
   "source": [
    "3.Виберіть максимальну і мінімальну дати найму співробітників використовуючи `con.cursor()`. Аби отримати результати в кінці, виконайте `cursor.fetchall()`."
   ]
  },
  {
   "cell_type": "code",
   "execution_count": 4,
   "id": "2d9785de",
   "metadata": {
    "id": "2d9785de"
   },
   "outputs": [
    {
     "data": {
      "text/plain": [
       "[(datetime.date(2000, 1, 28), datetime.date(1985, 1, 1))]"
      ]
     },
     "execution_count": 4,
     "metadata": {},
     "output_type": "execute_result"
    }
   ],
   "source": [
    "cursor = con.cursor()\n",
    "\n",
    "sql = \"\"\"\n",
    "select \n",
    "max(hire_date),\n",
    "min(hire_date)\n",
    "from employees\n",
    "\"\"\"\n",
    "\n",
    "cursor.execute(sql)\n",
    "cursor.fetchall()"
   ]
  },
  {
   "cell_type": "markdown",
   "id": "955dd2fa",
   "metadata": {
    "ExecuteTime": {
     "end_time": "2022-11-27T18:11:33.491134Z",
     "start_time": "2022-11-27T18:11:33.486973Z"
    },
    "id": "955dd2fa"
   },
   "source": [
    "Очікуваний результат:  \n",
    "    `[(datetime.date(2000, 1, 28), datetime.date(1985, 1, 1))]`"
   ]
  },
  {
   "cell_type": "markdown",
   "id": "1d9c214d",
   "metadata": {
    "ExecuteTime": {
     "end_time": "2023-07-14T15:52:49.876166Z",
     "start_time": "2023-07-14T15:52:49.855548Z"
    },
    "id": "1d9c214d"
   },
   "source": [
    "4.Давайте зберемо інформацію про останню ЗП кожного співробіткника в базі. З використанням `con.cursor()` виберіть з таблиці `salaries` для кожного співробітника його номер, останню в базі даних (тобто ту, що відповідає найновішій `to_date`) ЗП, та значення `from_date`, `to_date` для цієї ЗП.\n",
    "\n",
    "Результати запишіть у pandas DataFrame, який збережіть у змінну `res`. Як взяти з курсора назви колонок - вже наведено. На екран виведіть назви колонок в змінній `res`, розмір цього датафрейму та перші 3 записи в ньому.\n",
    "\n",
    "УВАГА! Зверніть увагу, що ЗП може оновлюватись протягом одного дня, тобто є випадки, коли апдейт ЗП був в певний день, скажімо 2001-01-01 і потім стався ще один апдейт ЗП цьому співробітнику цього самого дня. Запит має це враховувати.\n",
    "Також, теоретично ЗП може бути зменшена. Тож, брати дату з максимальною ЗП буде неправильно з точки зору бізнес логіки. Треба саме останнє історичне значення ЗП кожного співробітника."
   ]
  },
  {
   "cell_type": "code",
   "execution_count": null,
   "id": "e7ad14c8-bbbe-4a51-9b62-49777e4c1dc0",
   "metadata": {},
   "outputs": [],
   "source": [
    "import pandas as pd"
   ]
  },
  {
   "cell_type": "code",
   "execution_count": 24,
   "id": "f326ba43",
   "metadata": {
    "id": "f326ba43"
   },
   "outputs": [],
   "source": [
    "cursor = con.cursor() \n",
    "\n",
    "sql= \"\"\"SELECT \n",
    "    sal.emp_no, sal.salary, sal.from_date, sal.to_date\n",
    "FROM\n",
    "    salaries AS sal\n",
    "        JOIN\n",
    "    (SELECT \n",
    "        emp_no, MAX(to_date) AS max_date\n",
    "    FROM\n",
    "        salaries\n",
    "    GROUP BY emp_no) AS mdate ON sal.emp_no = mdate.emp_no\n",
    "        AND sal.to_date = mdate.max_date\"\"\"\n",
    "\n",
    "cursor.execute(sql)"
   ]
  },
  {
   "cell_type": "code",
   "execution_count": 25,
   "id": "c7f83847-617b-457d-87d5-042437f3a58f",
   "metadata": {},
   "outputs": [],
   "source": [
    "field_names = [i[0] for i in cursor.description]\n",
    "res = pd.DataFrame(cursor.fetchall(), columns = field_names)"
   ]
  },
  {
   "cell_type": "code",
   "execution_count": 33,
   "id": "bf5eb14d",
   "metadata": {
    "ExecuteTime": {
     "end_time": "2023-07-14T16:14:15.617144Z",
     "start_time": "2023-07-14T16:14:15.611369Z"
    },
    "id": "bf5eb14d"
   },
   "outputs": [
    {
     "name": "stdout",
     "output_type": "stream",
     "text": [
      "Index(['emp_no', 'salary', 'from_date', 'to_date'], dtype='object')\n",
      "(300180, 4)\n"
     ]
    },
    {
     "data": {
      "text/html": [
       "<div>\n",
       "<style scoped>\n",
       "    .dataframe tbody tr th:only-of-type {\n",
       "        vertical-align: middle;\n",
       "    }\n",
       "\n",
       "    .dataframe tbody tr th {\n",
       "        vertical-align: top;\n",
       "    }\n",
       "\n",
       "    .dataframe thead th {\n",
       "        text-align: right;\n",
       "    }\n",
       "</style>\n",
       "<table border=\"1\" class=\"dataframe\">\n",
       "  <thead>\n",
       "    <tr style=\"text-align: right;\">\n",
       "      <th></th>\n",
       "      <th>emp_no</th>\n",
       "      <th>salary</th>\n",
       "      <th>from_date</th>\n",
       "      <th>to_date</th>\n",
       "    </tr>\n",
       "  </thead>\n",
       "  <tbody>\n",
       "    <tr>\n",
       "      <th>0</th>\n",
       "      <td>10001</td>\n",
       "      <td>88958</td>\n",
       "      <td>2002-06-22</td>\n",
       "      <td>9999-01-01</td>\n",
       "    </tr>\n",
       "    <tr>\n",
       "      <th>1</th>\n",
       "      <td>10002</td>\n",
       "      <td>72527</td>\n",
       "      <td>2001-08-02</td>\n",
       "      <td>9999-01-01</td>\n",
       "    </tr>\n",
       "    <tr>\n",
       "      <th>2</th>\n",
       "      <td>10003</td>\n",
       "      <td>43311</td>\n",
       "      <td>2001-12-01</td>\n",
       "      <td>9999-01-01</td>\n",
       "    </tr>\n",
       "  </tbody>\n",
       "</table>\n",
       "</div>"
      ],
      "text/plain": [
       "   emp_no  salary   from_date     to_date\n",
       "0   10001   88958  2002-06-22  9999-01-01\n",
       "1   10002   72527  2001-08-02  9999-01-01\n",
       "2   10003   43311  2001-12-01  9999-01-01"
      ]
     },
     "execution_count": 33,
     "metadata": {},
     "output_type": "execute_result"
    }
   ],
   "source": [
    "print(res.columns)\n",
    "print(res.shape)\n",
    "res.head(3)"
   ]
  },
  {
   "cell_type": "markdown",
   "id": "e5770b56",
   "metadata": {
    "ExecuteTime": {
     "end_time": "2023-07-14T16:17:31.638485Z",
     "start_time": "2023-07-14T16:17:31.632827Z"
    },
    "id": "e5770b56"
   },
   "source": [
    "5.В утвореній вибірці в змінній `res` скільки значень `to_date` рівні `9999-01-01`, а скільки - ні? Увага! Для виконання цього завдання важливо розуміти, який тип даних у значень колонки `to_date`. Зʼясуйте це, і потім напишіть фільтр для виводу потрібного результату."
   ]
  },
  {
   "cell_type": "code",
   "execution_count": 37,
   "id": "8a9dc7e5",
   "metadata": {
    "id": "8a9dc7e5"
   },
   "outputs": [
    {
     "data": {
      "text/plain": [
       "emp_no        int64\n",
       "salary        int64\n",
       "from_date    object\n",
       "to_date      object\n",
       "dtype: object"
      ]
     },
     "execution_count": 37,
     "metadata": {},
     "output_type": "execute_result"
    }
   ],
   "source": [
    "res.dtypes"
   ]
  },
  {
   "cell_type": "markdown",
   "id": "be96d518-a62c-4738-84da-e46bf84226f2",
   "metadata": {},
   "source": [
    "Як бачимо тип колонки to_date - object - тобто може зберігати будь - які обьекти Python. Віведемо окремий екзкмпляр і бачимо що це  datetime.date"
   ]
  },
  {
   "cell_type": "code",
   "execution_count": 45,
   "id": "f77e8e6a-aac2-403b-a68b-24192075f550",
   "metadata": {},
   "outputs": [
    {
     "name": "stdout",
     "output_type": "stream",
     "text": [
      "<class 'datetime.date'>\n"
     ]
    }
   ],
   "source": [
    "print(type(res['to_date'].iloc[0]))"
   ]
  },
  {
   "cell_type": "code",
   "execution_count": 48,
   "id": "ee366b45-0395-4932-ae23-7ae3bec6e104",
   "metadata": {},
   "outputs": [
    {
     "name": "stdout",
     "output_type": "stream",
     "text": [
      "Кількість значень, рівних '9999-01-01': 240124\n",
      "Кількість значень, не рівних '9999-01-01': 60056\n"
     ]
    }
   ],
   "source": [
    "from datetime import date\n",
    "\n",
    "comparison_date = date(9999, 1, 1)\n",
    "count_equal = (res['to_date'] == comparison_date).sum()\n",
    "count_no_equal = (res['to_date'] != comparison_date).sum()\n",
    "print(f\"Кількість значень, рівних '9999-01-01': {count_equal}\")\n",
    "print(f\"Кількість значень, не рівних '9999-01-01': {count_no_equal}\")"
   ]
  },
  {
   "cell_type": "markdown",
   "id": "ae22c37a",
   "metadata": {
    "id": "ae22c37a"
   },
   "source": [
    "6.Виведіть візуально розподіл (гістограму) зарплат співробітників, які досі працюють в компанії, використовуючи результат попереднього завдання. Співробітниками, які досі працюють в компанії вважаємо тих, в кого to_date має значення 9999-01-01. Обовʼязково підпишіть графік і вісі.\n",
    "\n",
    "Ці три завдання - приклад, як нам може бути зручно витягнути дані з бази певним запитом, а потім використати витягнуту вибірку у Python для подальшого аналізу."
   ]
  },
  {
   "cell_type": "code",
   "execution_count": 53,
   "id": "ede9a748",
   "metadata": {
    "id": "ede9a748"
   },
   "outputs": [
    {
     "data": {
      "text/plain": [
       "(240124, 4)"
      ]
     },
     "execution_count": 53,
     "metadata": {},
     "output_type": "execute_result"
    }
   ],
   "source": [
    "working_emp = res[res['to_date'] == comparison_date]\n",
    "working_emp.shape"
   ]
  },
  {
   "cell_type": "code",
   "execution_count": 57,
   "id": "b9c0a006-9d5e-4643-9d27-b70cf17b45fe",
   "metadata": {},
   "outputs": [
    {
     "data": {
      "image/png": "[encoded data removed]",
      "text/plain": [
       "<Figure size 640x480 with 1 Axes>"
      ]
     },
     "metadata": {},
     "output_type": "display_data"
    }
   ],
   "source": [
    "import matplotlib.pyplot as plt\n",
    "plt.hist(working_emp['salary'], bins=10)\n",
    "plt.grid(True, linestyle='--', linewidth=0.5, alpha=0.7)\n",
    "plt.title('Розподіл поточних зарплат в компанії')\n",
    "plt.xlabel('Розмір зарплати')\n",
    "plt.ylabel('Кількість співробітників з такою ЗП')\n",
    "plt.show()"
   ]
  },
  {
   "cell_type": "markdown",
   "id": "Cp_JpGPpKmzp",
   "metadata": {
    "id": "Cp_JpGPpKmzp"
   },
   "source": [
    "НЕ ЗАБУВАЄМО ЗАКРИТИ ПІДКЛЮЧЕННЯ ДО БАЗИ :)"
   ]
  },
  {
   "cell_type": "code",
   "execution_count": 58,
   "id": "WEMo9bl6KnMh",
   "metadata": {
    "id": "WEMo9bl6KnMh"
   },
   "outputs": [],
   "source": [
    "con.close()"
   ]
  },
  {
   "cell_type": "code",
   "execution_count": null,
   "id": "4237b285-3c0e-4182-8576-0ed3aa4d8ea1",
   "metadata": {},
   "outputs": [],
   "source": []
  }
 ],
 "metadata": {
  "colab": {
   "provenance": []
  },
  "kernelspec": {
   "display_name": "Python 3 (ipykernel)",
   "language": "python",
   "name": "python3"
  },
  "language_info": {
   "codemirror_mode": {
    "name": "ipython",
    "version": 3
   },
   "file_extension": ".py",
   "mimetype": "text/x-python",
   "name": "python",
   "nbconvert_exporter": "python",
   "pygments_lexer": "ipython3",
   "version": "3.12.3"
  },
  "toc": {
   "base_numbering": 1,
   "nav_menu": {},
   "number_sections": true,
   "sideBar": true,
   "skip_h1_title": false,
   "title_cell": "Table of Contents",
   "title_sidebar": "Contents",
   "toc_cell": false,
   "toc_position": {},
   "toc_section_display": true,
   "toc_window_display": false
  },
  "vscode": {
   "interpreter": {
    "hash": "a6511e6b41b26ba86cca7483749cf4dd15bf137a2672e550741a656e19bba82e"
   }
  }
 },
 "nbformat": 4,
 "nbformat_minor": 5
}
