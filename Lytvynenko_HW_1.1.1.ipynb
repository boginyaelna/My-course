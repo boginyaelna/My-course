{
 "cells": [
  {
   "cell_type": "markdown",
   "id": "08f1c51f",
   "metadata": {
    "pycharm": {
     "name": "#%% md\n"
    }
   },
   "source": [
    "# Домашнє завдання до теми \"Python Basics\"\n",
    "В цьому ДЗ важливою умовою виконання завдань є те, що ми не імпортуємо жодних бібліотек, а робимо все на чистому Python, використовуючи лише базовий функціонал. Це необхідно аби відпрацювати роботу з базовими типами даних. А використовувати бібліотеки ми ще навчимось далі :)"
   ]
  },
  {
   "cell_type": "markdown",
   "id": "0f3e7772",
   "metadata": {
    "pycharm": {
     "name": "#%% md\n"
    }
   },
   "source": [
    "## Робота з числами та арифметичними операторами"
   ]
  },
  {
   "cell_type": "markdown",
   "id": "b2a2e2a5",
   "metadata": {
    "ExecuteTime": {
     "end_time": "2023-05-26T10:30:07.427381Z",
     "start_time": "2023-05-26T10:30:07.416247Z"
    }
   },
   "source": [
    "1.Створіть змінну, яка буде зберігати кількість яблук. І надайте їй значення 5. Виведіть значення змінної на екран."
   ]
  },
  {
   "cell_type": "code",
   "execution_count": 1,
   "id": "c3c0a17e",
   "metadata": {},
   "outputs": [
    {
     "data": {
      "text/plain": [
       "5"
      ]
     },
     "execution_count": 1,
     "metadata": {},
     "output_type": "execute_result"
    }
   ],
   "source": [
    "# завдання 1 варіант рішення\n",
    "jab = 5\n",
    "jab"
   ]
  },
  {
   "cell_type": "code",
   "execution_count": 1,
   "id": "c2b60bbe",
   "metadata": {
    "ExecuteTime": {
     "end_time": "2023-05-26T10:11:10.553841Z",
     "start_time": "2023-05-26T10:11:10.550848Z"
    }
   },
   "outputs": [
    {
     "name": "stdout",
     "output_type": "stream",
     "text": [
      "Кількість яблук = 5\n"
     ]
    }
   ],
   "source": [
    "# завдання 2 варіант рішення\n",
    "Kil_jabl = 5 \n",
    "print ('Кількість яблук =', Kil_jabl)"
   ]
  },
  {
   "cell_type": "markdown",
   "id": "22291667",
   "metadata": {},
   "source": [
    "2.Виведіть тип змінної, створеної в завданні (1)."
   ]
  },
  {
   "cell_type": "code",
   "execution_count": 5,
   "id": "7982a09a",
   "metadata": {},
   "outputs": [
    {
     "data": {
      "text/plain": [
       "int"
      ]
     },
     "execution_count": 5,
     "metadata": {},
     "output_type": "execute_result"
    }
   ],
   "source": [
    "type(jab)"
   ]
  },
  {
   "cell_type": "markdown",
   "id": "d43e1e57",
   "metadata": {},
   "source": [
    "3.Додайте до значення змінної, створеної в завданні (1) число `12` і виведіть результат на екран з допомогою команди `print()`."
   ]
  },
  {
   "cell_type": "code",
   "execution_count": 6,
   "id": "42729777",
   "metadata": {},
   "outputs": [
    {
     "name": "stdout",
     "output_type": "stream",
     "text": [
      "Нова кількість яблук =  17\n"
     ]
    }
   ],
   "source": [
    "print('Нова кількість яблук = ', jab + 12)"
   ]
  },
  {
   "cell_type": "markdown",
   "id": "0be48f79",
   "metadata": {
    "pycharm": {
     "name": "#%% md\n"
    }
   },
   "source": [
    "4.Запустіть код нижче аби створити дві змінні."
   ]
  },
  {
   "cell_type": "code",
   "execution_count": 2,
   "id": "9d7e1690",
   "metadata": {
    "pycharm": {
     "name": "#%%\n"
    }
   },
   "outputs": [],
   "source": [
    "a = 48\n",
    "b = 3"
   ]
  },
  {
   "cell_type": "code",
   "execution_count": 6,
   "id": "f22973ec-567e-4759-b6be-070ef13b0f8a",
   "metadata": {},
   "outputs": [
    {
     "name": "stdout",
     "output_type": "stream",
     "text": [
      "<class 'int'> <class 'int'> <class 'float'>\n"
     ]
    }
   ],
   "source": [
    "print (type(a),type(b),type(c)) "
   ]
  },
  {
   "cell_type": "code",
   "execution_count": 4,
   "id": "d80b1700-88f0-48ca-9652-181bea3b9004",
   "metadata": {},
   "outputs": [],
   "source": [
    "c = a / b "
   ]
  },
  {
   "cell_type": "markdown",
   "id": "1e9d3655",
   "metadata": {},
   "source": [
    "5.Перегляньте наступний код, подумайте, що він виведе в результаті, та потім, запустіть його."
   ]
  },
  {
   "cell_type": "code",
   "execution_count": 8,
   "id": "def00fa0",
   "metadata": {},
   "outputs": [
    {
     "data": {
      "text/plain": [
       "38"
      ]
     },
     "execution_count": 8,
     "metadata": {},
     "output_type": "execute_result"
    }
   ],
   "source": [
    "# Якщо ми одній і тій же змінній прісвоюемо декілька значень то в результаті у розрахунках буде використовуватися останнє - 38\n",
    "a = 10\n",
    "a = 12\n",
    "a = 15\n",
    "\n",
    "b = 4\n",
    "b = 8\n",
    "b = 14\n",
    "\n",
    "c = 3\n",
    "c = 6\n",
    "c = 9\n",
    "\n",
    "\n",
    "a + b + c"
   ]
  },
  {
   "cell_type": "markdown",
   "id": "bd2491e2",
   "metadata": {},
   "source": [
    "В клітинці нижче закоментуйте деякі рядки так, аби в результаті виконання останнього рядка коду (a + b + c) вивелось 17. Увага! Рядки треба саме закоментувати, а не видалити. Можна зручно коментувати рядки з допомогою комбінації клавіш Ctrl + / (Command + / для Mac)"
   ]
  },
  {
   "cell_type": "code",
   "execution_count": 9,
   "id": "02e0c7b3",
   "metadata": {},
   "outputs": [
    {
     "data": {
      "text/plain": [
       "17"
      ]
     },
     "execution_count": 9,
     "metadata": {},
     "output_type": "execute_result"
    }
   ],
   "source": [
    "a = 10\n",
    "# a = 12\n",
    "# a = 15\n",
    "\n",
    "b = 4\n",
    "# b = 8\n",
    "# b = 14\n",
    "\n",
    "c = 3\n",
    "# c = 6\n",
    "# c = 9\n",
    "\n",
    "\n",
    "a + b + c"
   ]
  }
 ],
 "metadata": {
  "kernelspec": {
   "display_name": "Python 3 (ipykernel)",
   "language": "python",
   "name": "python3"
  },
  "language_info": {
   "codemirror_mode": {
    "name": "ipython",
    "version": 3
   },
   "file_extension": ".py",
   "mimetype": "text/x-python",
   "name": "python",
   "nbconvert_exporter": "python",
   "pygments_lexer": "ipython3",
   "version": "3.12.7"
  },
  "toc": {
   "base_numbering": 1,
   "nav_menu": {},
   "number_sections": true,
   "sideBar": true,
   "skip_h1_title": false,
   "title_cell": "Table of Contents",
   "title_sidebar": "Contents",
   "toc_cell": false,
   "toc_position": {},
   "toc_section_display": true,
   "toc_window_display": false
  }
 },
 "nbformat": 4,
 "nbformat_minor": 5
}
